{
 "cells": [
  {
   "cell_type": "code",
   "execution_count": 190,
   "metadata": {},
   "outputs": [],
   "source": [
    "import pandas as pd\n",
    "import datetime\n",
    "import re\n"
   ]
  },
  {
   "cell_type": "code",
   "execution_count": 191,
   "metadata": {},
   "outputs": [],
   "source": [
    "df = pd.read_csv('../extract/elpais_2022_11_29_articles.csv', sep=',')"
   ]
  },
  {
   "cell_type": "code",
   "execution_count": 192,
   "metadata": {},
   "outputs": [
    {
     "data": {
      "text/plain": [
       "Index(['title', 'link', 'article'], dtype='object')"
      ]
     },
     "execution_count": 192,
     "metadata": {},
     "output_type": "execute_result"
    }
   ],
   "source": [
    "df.columns"
   ]
  },
  {
   "cell_type": "code",
   "execution_count": 193,
   "metadata": {},
   "outputs": [
    {
     "data": {
      "text/html": [
       "<div>\n",
       "<style scoped>\n",
       "    .dataframe tbody tr th:only-of-type {\n",
       "        vertical-align: middle;\n",
       "    }\n",
       "\n",
       "    .dataframe tbody tr th {\n",
       "        vertical-align: top;\n",
       "    }\n",
       "\n",
       "    .dataframe thead th {\n",
       "        text-align: right;\n",
       "    }\n",
       "</style>\n",
       "<table border=\"1\" class=\"dataframe\">\n",
       "  <thead>\n",
       "    <tr style=\"text-align: right;\">\n",
       "      <th></th>\n",
       "      <th>title</th>\n",
       "      <th>link</th>\n",
       "      <th>article</th>\n",
       "    </tr>\n",
       "  </thead>\n",
       "  <tbody>\n",
       "    <tr>\n",
       "      <th>0</th>\n",
       "      <td>NaN</td>\n",
       "      <td>/mexico/2022-11-29/donde-esta-la-barbie-el-mis...</td>\n",
       "      <td>�D�nde est� La Barbie? El paradero de �dgar Va...</td>\n",
       "    </tr>\n",
       "    <tr>\n",
       "      <th>1</th>\n",
       "      <td>L�pez Obrador y Germ�n Larrea, a un paso de ll...</td>\n",
       "      <td>/mexico/2022-11-29/lopez-obrador-y-german-larr...</td>\n",
       "      <td>Tras una tormenta de se�alamientos de incumpli...</td>\n",
       "    </tr>\n",
       "    <tr>\n",
       "      <th>2</th>\n",
       "      <td>Las presiones de la patronal retrasan la aprob...</td>\n",
       "      <td>/mexico/2022-11-29/las-presiones-de-la-patrona...</td>\n",
       "      <td>El aumento de los d�as de vacaciones en M�xico...</td>\n",
       "    </tr>\n",
       "    <tr>\n",
       "      <th>3</th>\n",
       "      <td>NaN</td>\n",
       "      <td>/internacional/2022-11-29/rusia-culpa-a-ee-uu-...</td>\n",
       "      <td>La perspectiva de una mejora en las relaciones...</td>\n",
       "    </tr>\n",
       "    <tr>\n",
       "      <th>4</th>\n",
       "      <td>�Si pudi�ramos cambiar el pasado...�. As� escr...</td>\n",
       "      <td>/ideas/2022-11-29/si-pudieramos-cambiar-el-pas...</td>\n",
       "      <td>Ser�a la persona m�s feliz del mundo si el lib...</td>\n",
       "    </tr>\n",
       "  </tbody>\n",
       "</table>\n",
       "</div>"
      ],
      "text/plain": [
       "                                               title  \\\n",
       "0                                                NaN   \n",
       "1  L�pez Obrador y Germ�n Larrea, a un paso de ll...   \n",
       "2  Las presiones de la patronal retrasan la aprob...   \n",
       "3                                                NaN   \n",
       "4  �Si pudi�ramos cambiar el pasado...�. As� escr...   \n",
       "\n",
       "                                                link  \\\n",
       "0  /mexico/2022-11-29/donde-esta-la-barbie-el-mis...   \n",
       "1  /mexico/2022-11-29/lopez-obrador-y-german-larr...   \n",
       "2  /mexico/2022-11-29/las-presiones-de-la-patrona...   \n",
       "3  /internacional/2022-11-29/rusia-culpa-a-ee-uu-...   \n",
       "4  /ideas/2022-11-29/si-pudieramos-cambiar-el-pas...   \n",
       "\n",
       "                                             article  \n",
       "0  �D�nde est� La Barbie? El paradero de �dgar Va...  \n",
       "1  Tras una tormenta de se�alamientos de incumpli...  \n",
       "2  El aumento de los d�as de vacaciones en M�xico...  \n",
       "3  La perspectiva de una mejora en las relaciones...  \n",
       "4  Ser�a la persona m�s feliz del mundo si el lib...  "
      ]
     },
     "execution_count": 193,
     "metadata": {},
     "output_type": "execute_result"
    }
   ],
   "source": [
    "df"
   ]
  },
  {
   "cell_type": "code",
   "execution_count": 194,
   "metadata": {},
   "outputs": [
    {
     "data": {
      "text/plain": [
       "0     True\n",
       "1    False\n",
       "2    False\n",
       "3     True\n",
       "4    False\n",
       "Name: title, dtype: bool"
      ]
     },
     "execution_count": 194,
     "metadata": {},
     "output_type": "execute_result"
    }
   ],
   "source": [
    "df['title'].isna()"
   ]
  },
  {
   "cell_type": "code",
   "execution_count": 195,
   "metadata": {},
   "outputs": [
    {
     "name": "stdout",
     "output_type": "stream",
     "text": [
      "['Donde esta la barbie el misterio revive el mito criminal de edgar valdez villarreal', 'Lopez obrador y german larrea a un paso de llegar a un acuerdo sobre el tren maya', 'Las presiones de la patronal retrasan la aprobacion del aumento de las vacaciones en el congreso', 'Rusia culpa a ee uu de la cancelacion del encuentro bilateral sobre control de armas nucleares?autoplay=1', 'Si pudieramos cambiar el pasado asi escribe zelenski en un libro que reune sus discursos']\n"
     ]
    }
   ],
   "source": [
    "regex = re.compile(r'(/.*)?')\n",
    "na_titles = []\n",
    "for e in df['link']:\n",
    "    \n",
    "    e = e.split('/')\n",
    "    e = e[-1]\n",
    "    e = e.split('-')\n",
    "    e = \" \".join(e)\n",
    "    e = e.replace('.html', '')\n",
    "    e = e.capitalize()\n",
    "    na_titles.append(e)\n",
    "\n",
    "print(na_titles)"
   ]
  },
  {
   "cell_type": "code",
   "execution_count": 196,
   "metadata": {},
   "outputs": [],
   "source": [
    "df['title'] = na_titles"
   ]
  },
  {
   "cell_type": "code",
   "execution_count": 197,
   "metadata": {},
   "outputs": [
    {
     "data": {
      "text/html": [
       "<div>\n",
       "<style scoped>\n",
       "    .dataframe tbody tr th:only-of-type {\n",
       "        vertical-align: middle;\n",
       "    }\n",
       "\n",
       "    .dataframe tbody tr th {\n",
       "        vertical-align: top;\n",
       "    }\n",
       "\n",
       "    .dataframe thead th {\n",
       "        text-align: right;\n",
       "    }\n",
       "</style>\n",
       "<table border=\"1\" class=\"dataframe\">\n",
       "  <thead>\n",
       "    <tr style=\"text-align: right;\">\n",
       "      <th></th>\n",
       "      <th>title</th>\n",
       "      <th>link</th>\n",
       "      <th>article</th>\n",
       "    </tr>\n",
       "  </thead>\n",
       "  <tbody>\n",
       "    <tr>\n",
       "      <th>0</th>\n",
       "      <td>Donde esta la barbie el misterio revive el mit...</td>\n",
       "      <td>/mexico/2022-11-29/donde-esta-la-barbie-el-mis...</td>\n",
       "      <td>�D�nde est� La Barbie? El paradero de �dgar Va...</td>\n",
       "    </tr>\n",
       "    <tr>\n",
       "      <th>1</th>\n",
       "      <td>Lopez obrador y german larrea a un paso de lle...</td>\n",
       "      <td>/mexico/2022-11-29/lopez-obrador-y-german-larr...</td>\n",
       "      <td>Tras una tormenta de se�alamientos de incumpli...</td>\n",
       "    </tr>\n",
       "    <tr>\n",
       "      <th>2</th>\n",
       "      <td>Las presiones de la patronal retrasan la aprob...</td>\n",
       "      <td>/mexico/2022-11-29/las-presiones-de-la-patrona...</td>\n",
       "      <td>El aumento de los d�as de vacaciones en M�xico...</td>\n",
       "    </tr>\n",
       "    <tr>\n",
       "      <th>3</th>\n",
       "      <td>Rusia culpa a ee uu de la cancelacion del encu...</td>\n",
       "      <td>/internacional/2022-11-29/rusia-culpa-a-ee-uu-...</td>\n",
       "      <td>La perspectiva de una mejora en las relaciones...</td>\n",
       "    </tr>\n",
       "    <tr>\n",
       "      <th>4</th>\n",
       "      <td>Si pudieramos cambiar el pasado asi escribe ze...</td>\n",
       "      <td>/ideas/2022-11-29/si-pudieramos-cambiar-el-pas...</td>\n",
       "      <td>Ser�a la persona m�s feliz del mundo si el lib...</td>\n",
       "    </tr>\n",
       "  </tbody>\n",
       "</table>\n",
       "</div>"
      ],
      "text/plain": [
       "                                               title  \\\n",
       "0  Donde esta la barbie el misterio revive el mit...   \n",
       "1  Lopez obrador y german larrea a un paso de lle...   \n",
       "2  Las presiones de la patronal retrasan la aprob...   \n",
       "3  Rusia culpa a ee uu de la cancelacion del encu...   \n",
       "4  Si pudieramos cambiar el pasado asi escribe ze...   \n",
       "\n",
       "                                                link  \\\n",
       "0  /mexico/2022-11-29/donde-esta-la-barbie-el-mis...   \n",
       "1  /mexico/2022-11-29/lopez-obrador-y-german-larr...   \n",
       "2  /mexico/2022-11-29/las-presiones-de-la-patrona...   \n",
       "3  /internacional/2022-11-29/rusia-culpa-a-ee-uu-...   \n",
       "4  /ideas/2022-11-29/si-pudieramos-cambiar-el-pas...   \n",
       "\n",
       "                                             article  \n",
       "0  �D�nde est� La Barbie? El paradero de �dgar Va...  \n",
       "1  Tras una tormenta de se�alamientos de incumpli...  \n",
       "2  El aumento de los d�as de vacaciones en M�xico...  \n",
       "3  La perspectiva de una mejora en las relaciones...  \n",
       "4  Ser�a la persona m�s feliz del mundo si el lib...  "
      ]
     },
     "execution_count": 197,
     "metadata": {},
     "output_type": "execute_result"
    }
   ],
   "source": [
    "df"
   ]
  },
  {
   "cell_type": "code",
   "execution_count": 198,
   "metadata": {},
   "outputs": [],
   "source": [
    "df['date'] = datetime.datetime.now().strftime('%Y-%m-%d')"
   ]
  },
  {
   "cell_type": "code",
   "execution_count": 199,
   "metadata": {},
   "outputs": [
    {
     "data": {
      "text/html": [
       "<div>\n",
       "<style scoped>\n",
       "    .dataframe tbody tr th:only-of-type {\n",
       "        vertical-align: middle;\n",
       "    }\n",
       "\n",
       "    .dataframe tbody tr th {\n",
       "        vertical-align: top;\n",
       "    }\n",
       "\n",
       "    .dataframe thead th {\n",
       "        text-align: right;\n",
       "    }\n",
       "</style>\n",
       "<table border=\"1\" class=\"dataframe\">\n",
       "  <thead>\n",
       "    <tr style=\"text-align: right;\">\n",
       "      <th></th>\n",
       "      <th>date</th>\n",
       "      <th>title</th>\n",
       "      <th>article</th>\n",
       "      <th>link</th>\n",
       "    </tr>\n",
       "  </thead>\n",
       "  <tbody>\n",
       "    <tr>\n",
       "      <th>0</th>\n",
       "      <td>2022-11-30</td>\n",
       "      <td>Donde esta la barbie el misterio revive el mit...</td>\n",
       "      <td>�D�nde est� La Barbie? El paradero de �dgar Va...</td>\n",
       "      <td>/mexico/2022-11-29/donde-esta-la-barbie-el-mis...</td>\n",
       "    </tr>\n",
       "    <tr>\n",
       "      <th>1</th>\n",
       "      <td>2022-11-30</td>\n",
       "      <td>Lopez obrador y german larrea a un paso de lle...</td>\n",
       "      <td>Tras una tormenta de se�alamientos de incumpli...</td>\n",
       "      <td>/mexico/2022-11-29/lopez-obrador-y-german-larr...</td>\n",
       "    </tr>\n",
       "    <tr>\n",
       "      <th>2</th>\n",
       "      <td>2022-11-30</td>\n",
       "      <td>Las presiones de la patronal retrasan la aprob...</td>\n",
       "      <td>El aumento de los d�as de vacaciones en M�xico...</td>\n",
       "      <td>/mexico/2022-11-29/las-presiones-de-la-patrona...</td>\n",
       "    </tr>\n",
       "    <tr>\n",
       "      <th>3</th>\n",
       "      <td>2022-11-30</td>\n",
       "      <td>Rusia culpa a ee uu de la cancelacion del encu...</td>\n",
       "      <td>La perspectiva de una mejora en las relaciones...</td>\n",
       "      <td>/internacional/2022-11-29/rusia-culpa-a-ee-uu-...</td>\n",
       "    </tr>\n",
       "    <tr>\n",
       "      <th>4</th>\n",
       "      <td>2022-11-30</td>\n",
       "      <td>Si pudieramos cambiar el pasado asi escribe ze...</td>\n",
       "      <td>Ser�a la persona m�s feliz del mundo si el lib...</td>\n",
       "      <td>/ideas/2022-11-29/si-pudieramos-cambiar-el-pas...</td>\n",
       "    </tr>\n",
       "  </tbody>\n",
       "</table>\n",
       "</div>"
      ],
      "text/plain": [
       "         date                                              title  \\\n",
       "0  2022-11-30  Donde esta la barbie el misterio revive el mit...   \n",
       "1  2022-11-30  Lopez obrador y german larrea a un paso de lle...   \n",
       "2  2022-11-30  Las presiones de la patronal retrasan la aprob...   \n",
       "3  2022-11-30  Rusia culpa a ee uu de la cancelacion del encu...   \n",
       "4  2022-11-30  Si pudieramos cambiar el pasado asi escribe ze...   \n",
       "\n",
       "                                             article  \\\n",
       "0  �D�nde est� La Barbie? El paradero de �dgar Va...   \n",
       "1  Tras una tormenta de se�alamientos de incumpli...   \n",
       "2  El aumento de los d�as de vacaciones en M�xico...   \n",
       "3  La perspectiva de una mejora en las relaciones...   \n",
       "4  Ser�a la persona m�s feliz del mundo si el lib...   \n",
       "\n",
       "                                                link  \n",
       "0  /mexico/2022-11-29/donde-esta-la-barbie-el-mis...  \n",
       "1  /mexico/2022-11-29/lopez-obrador-y-german-larr...  \n",
       "2  /mexico/2022-11-29/las-presiones-de-la-patrona...  \n",
       "3  /internacional/2022-11-29/rusia-culpa-a-ee-uu-...  \n",
       "4  /ideas/2022-11-29/si-pudieramos-cambiar-el-pas...  "
      ]
     },
     "execution_count": 199,
     "metadata": {},
     "output_type": "execute_result"
    }
   ],
   "source": [
    "df = df[['date', 'title', 'article', 'link' ]]\n",
    "df"
   ]
  },
  {
   "cell_type": "code",
   "execution_count": null,
   "metadata": {},
   "outputs": [],
   "source": []
  }
 ],
 "metadata": {
  "kernelspec": {
   "display_name": "Python 3.7.9 64-bit",
   "language": "python",
   "name": "python3"
  },
  "language_info": {
   "codemirror_mode": {
    "name": "ipython",
    "version": 3
   },
   "file_extension": ".py",
   "mimetype": "text/x-python",
   "name": "python",
   "nbconvert_exporter": "python",
   "pygments_lexer": "ipython3",
   "version": "3.7.9"
  },
  "orig_nbformat": 4,
  "vscode": {
   "interpreter": {
    "hash": "0a54084e6b208ee8d1ce3989ffc20924477a5f55f5a43e22e699a6741623861e"
   }
  }
 },
 "nbformat": 4,
 "nbformat_minor": 2
}
